{
 "cells": [
  {
   "cell_type": "code",
   "execution_count": 1,
   "id": "01e2e0b8",
   "metadata": {},
   "outputs": [],
   "source": [
    "from statsmodels.tsa.arima_process import arma_generate_sample\n",
    "import statsmodels.api as sm\n",
    "import numpy as np"
   ]
  },
  {
   "cell_type": "code",
   "execution_count": 2,
   "id": "d424b515",
   "metadata": {},
   "outputs": [
    {
     "ename": "ValueError",
     "evalue": "trend must be one of: 'nc', 'c'",
     "output_type": "error",
     "traceback": [
      "\u001b[1;31m---------------------------------------------------------------------------\u001b[0m",
      "\u001b[1;31mValueError\u001b[0m                                Traceback (most recent call last)",
      "\u001b[1;32m~\\AppData\\Local\\Temp/ipykernel_21180/2805005995.py\u001b[0m in \u001b[0;36m<module>\u001b[1;34m\u001b[0m\n\u001b[0;32m      6\u001b[0m \u001b[0mnp\u001b[0m\u001b[1;33m.\u001b[0m\u001b[0mrandom\u001b[0m\u001b[1;33m.\u001b[0m\u001b[0mseed\u001b[0m\u001b[1;33m(\u001b[0m\u001b[1;36m2014\u001b[0m\u001b[1;33m)\u001b[0m\u001b[1;33m\u001b[0m\u001b[1;33m\u001b[0m\u001b[0m\n\u001b[0;32m      7\u001b[0m \u001b[0my\u001b[0m \u001b[1;33m=\u001b[0m \u001b[0marma_generate_sample\u001b[0m\u001b[1;33m(\u001b[0m\u001b[0marparams\u001b[0m\u001b[1;33m,\u001b[0m \u001b[0mmaparams\u001b[0m\u001b[1;33m,\u001b[0m \u001b[0mnobs\u001b[0m\u001b[1;33m)\u001b[0m\u001b[1;33m\u001b[0m\u001b[1;33m\u001b[0m\u001b[0m\n\u001b[1;32m----> 8\u001b[1;33m \u001b[0mres\u001b[0m \u001b[1;33m=\u001b[0m \u001b[0msm\u001b[0m\u001b[1;33m.\u001b[0m\u001b[0mtsa\u001b[0m\u001b[1;33m.\u001b[0m\u001b[0marma_order_select_ic\u001b[0m\u001b[1;33m(\u001b[0m\u001b[0my\u001b[0m\u001b[1;33m,\u001b[0m \u001b[0mic\u001b[0m\u001b[1;33m=\u001b[0m\u001b[1;33m[\u001b[0m\u001b[1;34m\"aic\"\u001b[0m\u001b[1;33m,\u001b[0m \u001b[1;34m\"bic\"\u001b[0m\u001b[1;33m]\u001b[0m\u001b[1;33m,\u001b[0m \u001b[0mtrend\u001b[0m\u001b[1;33m=\u001b[0m\u001b[1;34m\"n\"\u001b[0m\u001b[1;33m)\u001b[0m\u001b[1;33m\u001b[0m\u001b[1;33m\u001b[0m\u001b[0m\n\u001b[0m\u001b[0;32m      9\u001b[0m \u001b[0mres\u001b[0m\u001b[1;33m.\u001b[0m\u001b[0maic_min_order\u001b[0m\u001b[1;33m\u001b[0m\u001b[1;33m\u001b[0m\u001b[0m\n\u001b[0;32m     10\u001b[0m \u001b[0mres\u001b[0m\u001b[1;33m.\u001b[0m\u001b[0mbic_min_order\u001b[0m\u001b[1;33m\u001b[0m\u001b[1;33m\u001b[0m\u001b[0m\n",
      "\u001b[1;32m~\\anaconda3\\envs\\mlenv\\lib\\site-packages\\statsmodels\\tsa\\stattools.py\u001b[0m in \u001b[0;36marma_order_select_ic\u001b[1;34m(y, max_ar, max_ma, ic, trend, model_kw, fit_kw)\u001b[0m\n\u001b[0;32m   1711\u001b[0m     \u001b[0mmax_ar\u001b[0m \u001b[1;33m=\u001b[0m \u001b[0mint_like\u001b[0m\u001b[1;33m(\u001b[0m\u001b[0mmax_ar\u001b[0m\u001b[1;33m,\u001b[0m \u001b[1;34m\"max_ar\"\u001b[0m\u001b[1;33m)\u001b[0m\u001b[1;33m\u001b[0m\u001b[1;33m\u001b[0m\u001b[0m\n\u001b[0;32m   1712\u001b[0m     \u001b[0mmax_ma\u001b[0m \u001b[1;33m=\u001b[0m \u001b[0mint_like\u001b[0m\u001b[1;33m(\u001b[0m\u001b[0mmax_ma\u001b[0m\u001b[1;33m,\u001b[0m \u001b[1;34m\"max_ma\"\u001b[0m\u001b[1;33m)\u001b[0m\u001b[1;33m\u001b[0m\u001b[1;33m\u001b[0m\u001b[0m\n\u001b[1;32m-> 1713\u001b[1;33m     \u001b[0mtrend\u001b[0m \u001b[1;33m=\u001b[0m \u001b[0mstring_like\u001b[0m\u001b[1;33m(\u001b[0m\u001b[0mtrend\u001b[0m\u001b[1;33m,\u001b[0m \u001b[1;34m\"trend\"\u001b[0m\u001b[1;33m,\u001b[0m \u001b[0moptions\u001b[0m\u001b[1;33m=\u001b[0m\u001b[1;33m(\u001b[0m\u001b[1;34m\"nc\"\u001b[0m\u001b[1;33m,\u001b[0m \u001b[1;34m\"c\"\u001b[0m\u001b[1;33m)\u001b[0m\u001b[1;33m)\u001b[0m\u001b[1;33m\u001b[0m\u001b[1;33m\u001b[0m\u001b[0m\n\u001b[0m\u001b[0;32m   1714\u001b[0m     \u001b[0mmodel_kw\u001b[0m \u001b[1;33m=\u001b[0m \u001b[0mdict_like\u001b[0m\u001b[1;33m(\u001b[0m\u001b[0mmodel_kw\u001b[0m\u001b[1;33m,\u001b[0m \u001b[1;34m\"model_kw\"\u001b[0m\u001b[1;33m,\u001b[0m \u001b[0moptional\u001b[0m\u001b[1;33m=\u001b[0m\u001b[1;32mTrue\u001b[0m\u001b[1;33m)\u001b[0m\u001b[1;33m\u001b[0m\u001b[1;33m\u001b[0m\u001b[0m\n\u001b[0;32m   1715\u001b[0m     \u001b[0mfit_kw\u001b[0m \u001b[1;33m=\u001b[0m \u001b[0mdict_like\u001b[0m\u001b[1;33m(\u001b[0m\u001b[0mfit_kw\u001b[0m\u001b[1;33m,\u001b[0m \u001b[1;34m\"fit_kw\"\u001b[0m\u001b[1;33m,\u001b[0m \u001b[0moptional\u001b[0m\u001b[1;33m=\u001b[0m\u001b[1;32mTrue\u001b[0m\u001b[1;33m)\u001b[0m\u001b[1;33m\u001b[0m\u001b[1;33m\u001b[0m\u001b[0m\n",
      "\u001b[1;32m~\\anaconda3\\envs\\mlenv\\lib\\site-packages\\statsmodels\\tools\\validation\\validation.py\u001b[0m in \u001b[0;36mstring_like\u001b[1;34m(value, name, optional, options, lower)\u001b[0m\n\u001b[0;32m    438\u001b[0m             \u001b[0mextra_text\u001b[0m\u001b[1;33m,\u001b[0m \u001b[0mname\u001b[0m\u001b[1;33m,\u001b[0m \u001b[0moptions_text\u001b[0m\u001b[1;33m\u001b[0m\u001b[1;33m\u001b[0m\u001b[0m\n\u001b[0;32m    439\u001b[0m         )\n\u001b[1;32m--> 440\u001b[1;33m         \u001b[1;32mraise\u001b[0m \u001b[0mValueError\u001b[0m\u001b[1;33m(\u001b[0m\u001b[0mmsg\u001b[0m\u001b[1;33m)\u001b[0m\u001b[1;33m\u001b[0m\u001b[1;33m\u001b[0m\u001b[0m\n\u001b[0m\u001b[0;32m    441\u001b[0m     \u001b[1;32mreturn\u001b[0m \u001b[0mvalue\u001b[0m\u001b[1;33m\u001b[0m\u001b[1;33m\u001b[0m\u001b[0m\n\u001b[0;32m    442\u001b[0m \u001b[1;33m\u001b[0m\u001b[0m\n",
      "\u001b[1;31mValueError\u001b[0m: trend must be one of: 'nc', 'c'"
     ]
    }
   ],
   "source": [
    "arparams = np.array([.75, -.25])\n",
    "maparams = np.array([.65, .35])\n",
    "arparams = np.r_[1, -arparams]\n",
    "maparam = np.r_[1, maparams]\n",
    "nobs = 250\n",
    "np.random.seed(2014)\n",
    "y = arma_generate_sample(arparams, maparams, nobs)\n",
    "res = sm.tsa.arma_order_select_ic(y, ic=[\"aic\", \"bic\"], trend=\"n\")\n",
    "res.aic_min_order\n",
    "res.bic_min_order"
   ]
  }
 ],
 "metadata": {
  "kernelspec": {
   "display_name": "mlenv",
   "language": "python",
   "name": "mlenv"
  },
  "language_info": {
   "codemirror_mode": {
    "name": "ipython",
    "version": 3
   },
   "file_extension": ".py",
   "mimetype": "text/x-python",
   "name": "python",
   "nbconvert_exporter": "python",
   "pygments_lexer": "ipython3",
   "version": "3.7.11"
  }
 },
 "nbformat": 4,
 "nbformat_minor": 5
}
