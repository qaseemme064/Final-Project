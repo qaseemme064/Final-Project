{
 "cells": [
  {
   "cell_type": "code",
   "execution_count": 1,
   "metadata": {},
   "outputs": [],
   "source": [
    "import pandas as pd\n",
    "import numpy as np\n",
    "import matplotlib.pyplot as plt\n",
    "from datetime import datetime\n",
    "from datetime import timedelta\n",
    "from pandas.plotting import register_matplotlib_converters\n",
    "from statsmodels.tsa.stattools import acf, pacf\n",
    "from statsmodels.tsa.statespace.sarimax import SARIMAX\n",
    "register_matplotlib_converters()\n",
    "from time import time"
   ]
  },
  {
   "cell_type": "code",
   "execution_count": null,
   "metadata": {},
   "outputs": [],
   "source": []
  },
  {
   "cell_type": "code",
   "execution_count": 2,
   "metadata": {},
   "outputs": [],
   "source": [
    "def parser(s):\n",
    "    return datetime.strptime(s, '%Y-%m-%d')"
   ]
  },
  {
   "cell_type": "code",
   "execution_count": 3,
   "metadata": {},
   "outputs": [],
   "source": [
    "#read data\n",
    "\n",
    
    "df=pd.read_csv(\"C:/Users/travi/Documents/steps_p01.csv\", parse_dates=[1], index_col=1, squeeze=True, date_parser=parser)"
   ]
  },
  {
   "cell_type": "code",
   "execution_count": 4,
   "metadata": {},
   "outputs": [
    {
     "data": {
      "text/html": [
       "<div>\n",
       "<style scoped>\n",
       "    .dataframe tbody tr th:only-of-type {\n",
       "        vertical-align: middle;\n",
       "    }\n",
       "\n",
       "    .dataframe tbody tr th {\n",
       "        vertical-align: top;\n",
       "    }\n",
       "\n",
       "    .dataframe thead th {\n",
       "        text-align: right;\n",
       "    }\n",
       "</style>\n",
       "<table border=\"1\" class=\"dataframe\">\n",
       "  <thead>\n",
       "    <tr style=\"text-align: right;\">\n",
       "      <th></th>\n",
       "      <th>Participant_ID</th>\n",
       "      <th>Steps</th>\n",
       "    </tr>\n",
       "    <tr>\n",
       "      <th>Dates</th>\n",
       "      <th></th>\n",
       "      <th></th>\n",
       "    </tr>\n",
       "  </thead>\n",
       "  <tbody>\n",
       "    <tr>\n",
       "      <th>2019-11-01</th>\n",
       "      <td>p01</td>\n",
       "      <td>4664</td>\n",
       "    </tr>\n",
       "    <tr>\n",
       "      <th>2019-11-02</th>\n",
       "      <td>p01</td>\n",
       "      <td>3035</td>\n",
       "    </tr>\n",
       "    <tr>\n",
       "      <th>2019-11-04</th>\n",
       "      <td>p01</td>\n",
       "      <td>1284</td>\n",
       "    </tr>\n",
       "    <tr>\n",
       "      <th>2019-11-05</th>\n",
       "      <td>p01</td>\n",
       "      <td>4966</td>\n",
       "    </tr>\n",
       "    <tr>\n",
       "      <th>2019-11-08</th>\n",
       "      <td>p01</td>\n",
       "      <td>2094</td>\n",
       "    </tr>\n",
       "  </tbody>\n",
       "</table>\n",
       "</div>"
      ],
      "text/plain": [
       "           Participant_ID  Steps\n",
       "Dates                           \n",
       "2019-11-01            p01   4664\n",
       "2019-11-02            p01   3035\n",
       "2019-11-04            p01   1284\n",
       "2019-11-05            p01   4966\n",
       "2019-11-08            p01   2094"
      ]
     },
     "execution_count": 4,
     "metadata": {},
     "output_type": "execute_result"
    }
   ],
   "source": [
    "df.head()"
   ]
  },
  {
   "cell_type": "code",
   "execution_count": 5,
   "metadata": {},
   "outputs": [
    {
     "data": {
      "text/plain": [
       "Participant_ID    object\n",
       "Steps              int64\n",
       "dtype: object"
      ]
     },
     "execution_count": 5,
     "metadata": {},
     "output_type": "execute_result"
    }
   ],
   "source": [
    "df.dtypes"
   ]
  },
  {
   "cell_type": "code",
   "execution_count": 6,
   "metadata": {},
   "outputs": [],
   "source": [
    "df_copy=df.drop(labels = [\"Participant_ID\"], axis=1)"
   ]
  },
  {
   "cell_type": "code",
   "execution_count": 7,
   "metadata": {},
   "outputs": [
    {
     "data": {
      "text/html": [
       "<div>\n",
       "<style scoped>\n",
       "    .dataframe tbody tr th:only-of-type {\n",
       "        vertical-align: middle;\n",
       "    }\n",
       "\n",
       "    .dataframe tbody tr th {\n",
       "        vertical-align: top;\n",
       "    }\n",
       "\n",
       "    .dataframe thead th {\n",
       "        text-align: right;\n",
       "    }\n",
       "</style>\n",
       "<table border=\"1\" class=\"dataframe\">\n",
       "  <thead>\n",
       "    <tr style=\"text-align: right;\">\n",
       "      <th></th>\n",
       "      <th>Steps</th>\n",
       "    </tr>\n",
       "    <tr>\n",
       "      <th>Dates</th>\n",
       "      <th></th>\n",
       "    </tr>\n",
       "  </thead>\n",
       "  <tbody>\n",
       "    <tr>\n",
       "      <th>2019-11-01</th>\n",
       "      <td>4664</td>\n",
       "    </tr>\n",
       "    <tr>\n",
       "      <th>2019-11-02</th>\n",
       "      <td>3035</td>\n",
       "    </tr>\n",
       "    <tr>\n",
       "      <th>2019-11-04</th>\n",
       "      <td>1284</td>\n",
       "    </tr>\n",
       "    <tr>\n",
       "      <th>2019-11-05</th>\n",
       "      <td>4966</td>\n",
       "    </tr>\n",
       "    <tr>\n",
       "      <th>2019-11-08</th>\n",
       "      <td>2094</td>\n",
       "    </tr>\n",
       "  </tbody>\n",
       "</table>\n",
       "</div>"
      ],
      "text/plain": [
       "            Steps\n",
       "Dates            \n",
       "2019-11-01   4664\n",
       "2019-11-02   3035\n",
       "2019-11-04   1284\n",
       "2019-11-05   4966\n",
       "2019-11-08   2094"
      ]
     },
     "execution_count": 7,
     "metadata": {},
     "output_type": "execute_result"
    }
   ],
   "source": [
    "df_copy.head()\n"
   ]
  },
  {
   "cell_type": "code",
   "execution_count": 8,
   "metadata": {},
   "outputs": [
    {
     "data": {
      "text/plain": [
       "Steps    int64\n",
       "dtype: object"
      ]
     },
     "execution_count": 8,
     "metadata": {},
     "output_type": "execute_result"
    }
   ],
   "source": [
    "df_copy.dtypes"
   ]
  },
  {
   "cell_type": "code",
   "execution_count": 9,
   "metadata": {},
   "outputs": [
    {
     "data": {
      "text/plain": [
       "Steps    117\n",
       "dtype: int64"
      ]
     },
     "execution_count": 9,
     "metadata": {},
     "output_type": "execute_result"
    }
   ],
   "source": [
    "df_copy.count()"
   ]
  },
  {
   "cell_type": "code",
   "execution_count": 10,
   "metadata": {},
   "outputs": [],
   "source": [
    "\n",
    "# grid search ARIMA parameters for time series\n",
    "import warnings\n",
    "from math import sqrt\n",
    "from pandas import read_csv\n",
    "from statsmodels.tsa.arima.model import ARIMA\n",
    "from sklearn.metrics import mean_squared_error"
   ]
  },
  {
   "cell_type": "code",
   "execution_count": 11,
   "metadata": {},
   "outputs": [],
   "source": [
    "# evaluate an ARIMA model for a given order (p,d,q)\n",
    "def evaluate_arima_model(X, arima_order):\n",
    "\t# prepare training dataset\n",
    "\ttrain_size = int(len(X) * 0.66)\n",
    "\ttrain, test = X[0:train_size], X[train_size:]\n",
    "\thistory = [x for x in train]\n",
    "\t# make predictions\n",
    "\tpredictions = list()\n",
    "\tfor t in range(len(test)):\n",
    "\t\tmodel = ARIMA(history, order=arima_order)\n",
    "\t\tmodel_fit = model.fit()\n",
    "\t\tyhat = model_fit.forecast()[0]\n",
    "\t\tpredictions.append(yhat)\n",
    "\t\thistory.append(test[t])\n",
    "\t# calculate out of sample error\n",
    "\t#rmse = sqrt(mean_squared_error(test, predictions))\n",
    "    mape = np.mean(np.abs(forecast - actual)/np.abs(actual))  # MAPE\n",
    "\treturn rmse"
   ]
  },
  {
   "cell_type": "code",
   "execution_count": 12,
   "metadata": {},
   "outputs": [],
   "source": [
    "# evaluate combinations of p, d and q values for an ARIMA model\n",
    "def evaluate_models(dataset, p_values, d_values, q_values):\n",
    "\tdataset = dataset.astype('float32')\n",
    "\tbest_score, best_cfg = float(\"inf\"), None\n",
    "\tfor p in p_values:\n",
    "\t\tfor d in d_values:\n",
    "\t\t\tfor q in q_values:\n",
    "\t\t\t\torder = (p,d,q)\n",
    "\t\t\t\ttry:\n",
    "\t\t\t\t\trmse = evaluate_arima_model(dataset, order)\n",
    "\t\t\t\t\tif rmse < best_score:\n",
    "\t\t\t\t\t\tbest_score, best_cfg = rmse, order\n",
    "\t\t\t\t\tprint('ARIMA%s RMSE=%.3f' % (order,rmse))\n",
    "\t\t\t\texcept:\n",
    "\t\t\t\t\tcontinue\n",
    "\tprint('Best ARIMA%s RMSE=%.3f' % (best_cfg, best_score))\n",
    " "
   ]
  },
  {
   "cell_type": "code",
   "execution_count": 14,
   "metadata": {},
   "outputs": [
    {
     "name": "stdout",
     "output_type": "stream",
     "text": [
      "ARIMA(0, 0, 0) RMSE=3088.720\n",
      "ARIMA(0, 0, 1) RMSE=3120.266\n",
      "ARIMA(0, 0, 2) RMSE=3084.247\n",
      "ARIMA(0, 1, 0) RMSE=4429.597\n",
      "ARIMA(0, 1, 1) RMSE=3083.468\n",
      "ARIMA(0, 1, 2) RMSE=3115.521\n",
      "ARIMA(0, 2, 0) RMSE=7421.318\n",
      "ARIMA(0, 2, 1) RMSE=4452.821\n",
      "ARIMA(0, 2, 2) RMSE=3156.881\n",
      "ARIMA(1, 0, 0) RMSE=3117.978\n",
      "ARIMA(1, 0, 1) RMSE=3113.238\n",
      "ARIMA(1, 0, 2) RMSE=3222.499\n",
      "ARIMA(1, 1, 0) RMSE=4100.564\n",
      "ARIMA(1, 1, 1) RMSE=3115.089\n",
      "ARIMA(1, 1, 2) RMSE=3120.028\n",
      "ARIMA(1, 2, 0) RMSE=6098.486\n",
      "ARIMA(1, 2, 1) RMSE=4120.338\n",
      "ARIMA(1, 2, 2) RMSE=3135.232\n",
      "ARIMA(2, 0, 0) RMSE=3095.753\n",
      "ARIMA(2, 0, 1) RMSE=3121.030\n",
      "ARIMA(2, 0, 2) RMSE=3160.873\n",
      "ARIMA(2, 1, 0) RMSE=3855.541\n",
      "ARIMA(2, 1, 1) RMSE=3103.523\n",
      "ARIMA(2, 1, 2) RMSE=3202.717\n",
      "ARIMA(2, 2, 0) RMSE=5275.415\n",
      "ARIMA(2, 2, 1) RMSE=3875.646\n",
      "ARIMA(2, 2, 2) RMSE=3536.237\n",
      "ARIMA(4, 0, 0) RMSE=3043.447\n",
      "ARIMA(4, 0, 1) RMSE=3303.827\n",
      "ARIMA(4, 0, 2) RMSE=3207.444\n",
      "ARIMA(4, 1, 0) RMSE=3483.102\n",
      "ARIMA(4, 1, 1) RMSE=3067.731\n",
      "ARIMA(4, 1, 2) RMSE=3141.007\n",
      "ARIMA(4, 2, 0) RMSE=4743.675\n",
      "ARIMA(4, 2, 1) RMSE=3523.856\n",
      "ARIMA(4, 2, 2) RMSE=3780.454\n",
      "ARIMA(6, 0, 0) RMSE=3188.384\n",
      "ARIMA(6, 0, 1) RMSE=3208.289\n",
      "ARIMA(6, 0, 2) RMSE=3353.754\n",
      "ARIMA(6, 1, 0) RMSE=3533.699\n",
      "ARIMA(6, 1, 1) RMSE=3194.804\n",
      "ARIMA(6, 1, 2) RMSE=3144.597\n",
      "ARIMA(6, 2, 0) RMSE=4424.497\n",
      "ARIMA(6, 2, 1) RMSE=3576.576\n",
      "ARIMA(8, 0, 0) RMSE=3210.677\n",
      "ARIMA(8, 0, 1) RMSE=3306.377\n",
      "ARIMA(8, 0, 2) RMSE=3307.752\n",
      "ARIMA(8, 1, 0) RMSE=3343.014\n",
      "ARIMA(8, 1, 1) RMSE=3212.264\n",
      "ARIMA(8, 1, 2) RMSE=3123.790\n",
      "ARIMA(8, 2, 0) RMSE=4184.171\n",
      "ARIMA(8, 2, 1) RMSE=3403.092\n",
      "ARIMA(8, 2, 2) RMSE=3470.171\n",
      "ARIMA(10, 0, 0) RMSE=3292.354\n",
      "ARIMA(10, 0, 1) RMSE=3301.240\n",
      "ARIMA(10, 0, 2) RMSE=3316.282\n",
      "ARIMA(10, 1, 0) RMSE=3303.984\n",
      "ARIMA(10, 1, 1) RMSE=3255.131\n",
      "ARIMA(10, 1, 2) RMSE=3216.511\n",
      "ARIMA(10, 2, 0) RMSE=3712.845\n",
      "ARIMA(10, 2, 1) RMSE=3345.079\n",
      "ARIMA(10, 2, 2) RMSE=3339.600\n",
      "Best ARIMA(4, 0, 0) RMSE=3043.447\n"
     ]
    }
   ],
   "source": [
    "# evaluate parameters\n",
    "p_values = [0, 1, 2, 4, 6, 8, 10]\n",
    "d_values = range(0, 3)\n",
    "q_values = range(0, 3)\n",
    "warnings.filterwarnings(\"ignore\")\n",
    "evaluate_models(df_copy.values, p_values, d_values, q_values)"
   ]
  },
  {
   "cell_type": "code",
   "execution_count": null,
   "metadata": {},
   "outputs": [],
   "source": [
    "# https://machinelearningmastery.com/grid-search-arima-hyperparameters-with-python/\n",
    "# https://github.com/ritvikmath/Time-Series-Analysis/blob/master/SARIMA%20Model.ipynb\n",
    "# https://www.youtube.com/watch?v=Al8m6K_stfA\n",
    "# https://towardsdatascience.com/most-useful-python-functions-for-time-series-analysis-ed1a9cb3aa8b\n",
    "# https://www.statsmodels.org/dev/examples/notebooks/generated/stationarity_detrending_adf_kpss.html\n"
   ]
  }
 ],
 "metadata": {
  "kernelspec": {
   "display_name": "Python 3 (ipykernel)",
   "language": "python",
   "name": "python3"
  },
  "language_info": {
   "codemirror_mode": {
    "name": "ipython",
    "version": 3
   },
   "file_extension": ".py",
   "mimetype": "text/x-python",
   "name": "python",
   "nbconvert_exporter": "python",
   "pygments_lexer": "ipython3",
   "version": "3.7.11"
  }
 },
 "nbformat": 4,
 "nbformat_minor": 4
}
