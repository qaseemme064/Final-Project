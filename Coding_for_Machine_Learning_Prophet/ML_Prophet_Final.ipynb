{
 "cells": [
  {
   "cell_type": "code",
   "execution_count": 12,
   "id": "ebaa121c",
   "metadata": {},
   "outputs": [],
   "source": [
    "# https://machinelearningmastery.com/time-series-forecasting-with-prophet-in-python/\n",
    "\n",
    "# FYI, 1) Prophet's name has changed from fbprophet to prophet. So anywhere instructions say fbprophet use prophet \n",
    "# 2) it only runs on versions of python less than 3.9. If you're like me, I have 3.7 installed in PythonData kernal, so I installed Prophet there using the following instructions. \n",
    "# https://medium.com/data-folks-indonesia/installing-fbprophet-prophet-for-time-series-forecasting-in-jupyter-notebook-7de6db09f93e"
   ]
  },
  {
   "cell_type": "code",
   "execution_count": 14,
   "id": "3448da2e",
   "metadata": {},
   "outputs": [
    {
     "name": "stdout",
     "output_type": "stream",
     "text": [
      "Prophet 1.0\n"
     ]
    }
   ],
   "source": [
    "# check prophet version\n",
    "import prophet\n",
    "# print version number\n",
    "print('Prophet %s' % prophet.__version__)\n",
    "\n",
    "from pandas import read_csv\n",
    "from matplotlib import pyplot\n",
    "\n",
    "from pandas import to_datetime\n",
    "\n",
    "from prophet import Prophet\n",
    "\n",
    "from pandas import DataFrame\n",
    "\n",
    "import pandas as pd\n",
    "import numpy as np"
   ]
  },
  {
   "cell_type": "code",
   "execution_count": 15,
   "id": "8d24e460",
   "metadata": {},
   "outputs": [],
   "source": [
    "# training percentage of dataset data\n",
    "\n",
    "train_perc = 0.66\n",
    "\n",
    "# daily seasonality\n",
    "\n",
    "seasonality_b = False\n",
    "\n",
    "# remove zeros\n",
    "\n",
    "zeros_b = True  # True = remove zero values from dataset, False = keep zeros in dataset"
   ]
  },
  {
   "cell_type": "code",
   "execution_count": 3,
   "id": "b0da771c",
   "metadata": {},
   "outputs": [],
   "source": [
    "# Load metrics from CVS files\n",
    "\n",
    "#df_dailysteps=pd.read_csv(\"Resources\\steps_p01.csv\",index_col='Dates',parse_dates=True)\n",
    "\n",
    "#df_steps=pd.read_csv(\"final_merged_all_participants/steps.csv\")\n",
    "#df_active_duration=pd.read_csv(\"final_merged_all_participants/active_duration.csv\")\n",
    "#df_active_heart_rate=pd.read_csv(\"final_merged_all_participants/active_heart_rate.csv\")\n",
    "#df_calories=pd.read_csv(\"final_merged_all_participants/calories.csv\")\n",
    "#df_distance=pd.read_csv(\"final_merged_all_participants/distance.csv\")\n",
    "#df_resting_heartrate=pd.read_csv(\"final_merged_all_participants/resting_heartrate.csv\")\n",
    "#df_sleep=pd.read_csv(\"final_merged_all_participants/sleep.csv\")\n",
    "#df_participant_overview=pd.read_csv(\"final_merged_all_participants/participant_overview.csv\")\n",
    "\n",
    "#df_sleep.rename(columns = {\"Date_Of_Sleep\": \"Dates\"}, inplace = True)\n",
    "\n",
    "# Drop the label 'time'\n",
    "#df_active_heart_rate = df_active_heart_rate.drop(columns=\"Time\")"
   ]
  },
  {
   "cell_type": "code",
   "execution_count": 16,
   "id": "962bf233",
   "metadata": {},
   "outputs": [
    {
     "name": "stdout",
     "output_type": "stream",
     "text": [
      "PostgreSQL server information\n",
      "{'user': 'yeujsrmjhunnke', 'channel_binding': 'prefer', 'dbname': 'derfg6csuck3l8', 'host': 'ec2-3-231-82-226.compute-1.amazonaws.com', 'port': '5432', 'options': '', 'sslmode': 'prefer', 'sslcompression': '0', 'sslsni': '1', 'ssl_min_protocol_version': 'TLSv1.2', 'gssencmode': 'disable', 'krbsrvname': 'postgres', 'target_session_attrs': 'any'} \n",
      "\n",
      "PostgreSQL connection is closed\n"
     ]
    }
   ],
   "source": [
    "# Load metrics from Database\n",
    "\n",
    "import psycopg2\n",
    "from psycopg2 import Error\n",
    "from config import db_password\n",
    "from config import user\n",
    "\n",
    "try:\n",
    "    # Connect to an existing database\n",
    "    connection = psycopg2.connect(user= user,\n",
    "                                  password=db_password,\n",
    "                                  host=\"ec2-3-231-82-226.compute-1.amazonaws.com\",\n",
    "                                  port=\"5432\",\n",
    "                                  database=\"derfg6csuck3l8\")\n",
    "    # Create a cursor to perform database operations\n",
    "    cursor = connection.cursor()\n",
    "    \n",
    "     # Print PostgreSQL details\n",
    "    print(\"PostgreSQL server information\")\n",
    "    print(connection.get_dsn_parameters(), \"\\n\")\n",
    "    \n",
    "# 1) Executing a SQL query for participant details\n",
    "    cursor.execute(\"SELECT * FROM participants_details;\")\n",
    "    \n",
    "    column_names = [desc[0] for desc in cursor.description]\n",
    "    # Fetch result\n",
    "    record = cursor.fetchall()\n",
    "    df_participant_overview = pd.DataFrame(record, columns = column_names)\n",
    "    #print(\"You are connected to - \", record, \"\\n\")\n",
    "\n",
    "# 2) Executing a SQL query for steps details\n",
    "    cursor.execute(\"SELECT * FROM steps ORDER BY dates;\")\n",
    "    \n",
    "    column_names = [desc[0] for desc in cursor.description]\n",
    "    # Fetch result\n",
    "    record = cursor.fetchall()\n",
    "    df_steps = pd.DataFrame(record, columns = column_names)\n",
    "    #print(\"You are connected to - \", record, \"\\n\")\n",
    "\n",
    "# 3) Executing a SQL query for active_duration details\n",
    "    cursor.execute(\"SELECT * FROM active_duration ORDER BY dates;\")\n",
    "    \n",
    "    column_names = [desc[0] for desc in cursor.description]\n",
    "    # Fetch result\n",
    "    record = cursor.fetchall()\n",
    "    df_active_duration = pd.DataFrame(record, columns = column_names)\n",
    "    #print(\"You are connected to - \", record, \"\\n\")\n",
    "\n",
    "# 4) Executing a SQL query for v_avg_active_heartrate details\n",
    "    cursor.execute(\"SELECT * FROM v_avg_active_heartrate ORDER BY dates;\")\n",
    "    \n",
    "    column_names = [desc[0] for desc in cursor.description]\n",
    "    # Fetch result\n",
    "    record = cursor.fetchall()\n",
    "    df_active_heart_rate = pd.DataFrame(record, columns = column_names)\n",
    "    #print(\"You are connected to - \", record, \"\\n\")\n",
    "\n",
    "# 5) Executing a SQL query for calories details\n",
    "    cursor.execute(\"SELECT * FROM calories ORDER BY dates;\")\n",
    "    \n",
    "    column_names = [desc[0] for desc in cursor.description]\n",
    "    # Fetch result\n",
    "    record = cursor.fetchall()\n",
    "    df_calories = pd.DataFrame(record, columns = column_names)\n",
    "    #print(\"You are connected to - \", record, \"\\n\")\n",
    "\n",
    "# 6) Executing a SQL query for distance details\n",
    "    cursor.execute(\"SELECT * FROM distance ORDER BY dates;\")\n",
    "    \n",
    "    column_names = [desc[0] for desc in cursor.description]\n",
    "    # Fetch result\n",
    "    record = cursor.fetchall()\n",
    "    df_distance = pd.DataFrame(record, columns = column_names)\n",
    "    #print(\"You are connected to - \", record, \"\\n\")\n",
    "\n",
    "# 7) Executing a SQL query for resting_heartrate details\n",
    "    cursor.execute(\"SELECT * FROM resting_heartrate ORDER BY dates;\")\n",
    "    \n",
    "    column_names = [desc[0] for desc in cursor.description]\n",
    "    # Fetch result\n",
    "    record = cursor.fetchall()\n",
    "    df_resting_heartrate = pd.DataFrame(record, columns = column_names)\n",
    "    #print(\"You are connected to - \", record, \"\\n\")\n",
    "    \n",
    "# 8) Executing a SQL query for sleep details\n",
    "    cursor.execute(\"SELECT * FROM sleep ORDER BY dates;\")\n",
    "    \n",
    "    column_names = [desc[0] for desc in cursor.description]\n",
    "    # Fetch result\n",
    "    record = cursor.fetchall()\n",
    "    df_sleep = pd.DataFrame(record, columns = column_names)\n",
    "    #print(\"You are connected to - \", record, \"\\n\")\n",
    "    \n",
    "    \n",
    "except (Exception, Error) as error:\n",
    "    print(\"Error while connecting to PostgreSQL\", error)\n",
    "finally:\n",
    "    if (connection):\n",
    "        cursor.close()\n",
    "        connection.close()\n",
    "        print(\"PostgreSQL connection is closed\")"
   ]
  },
  {
   "cell_type": "code",
   "execution_count": 17,
   "id": "51d6f90c",
   "metadata": {},
   "outputs": [],
   "source": [
    "# keep only particpant Ids\n",
    "\n",
    "df_participant_IDs = df_participant_overview[\"participant_id\"]"
   ]
  },
  {
   "cell_type": "code",
   "execution_count": 18,
   "id": "f034b60b",
   "metadata": {},
   "outputs": [],
   "source": [
    "def parser(df):\n",
    "    df.dropna()\n",
    "    df = df.drop([\"participant_id\"],axis=1)\n",
    "    if \"S.No.\" in df:\n",
    "        df = df.drop([\"S.No.\"],axis=1)\n",
    "    df.columns = ['ds', 'y']\n",
    "    df['ds']= to_datetime(df['ds'])\n",
    "    \n",
    "    return df"
   ]
  },
  {
   "cell_type": "code",
   "execution_count": 19,
   "id": "baa0a07c",
   "metadata": {},
   "outputs": [],
   "source": [
    "def evaluate_model(predictions, test, perf_mape):\n",
    "    \n",
    "    # calculates and returns MAPE\n",
    "    \n",
    "    if perf_mape:\n",
    "        test = test.reset_index()\n",
    "        predictions = predictions.reset_index()\n",
    "        mape = round(100 * np.mean(np.abs(predictions['yhat'] - test['y'])/np.abs(test['y'])),2)  # MAPE.ipynb\n",
    "    else:\n",
    "        mape = \"No Data\"\n",
    "    return mape"
   ]
  },
  {
   "cell_type": "code",
   "execution_count": 20,
   "id": "6689f6bd",
   "metadata": {},
   "outputs": [],
   "source": [
    "def update_output_df(output_df, forecast_df, pid, dataset):\n",
    "    #consolidates output dataframes for each dataset with predictions\n",
    "    temp_df = pd.DataFrame(forecast_df)\n",
    "    \n",
    "    # drop unneeded columns\n",
    "    for col in temp_df:\n",
    "        if col != \"ds\":\n",
    "            if col != \"yhat\":\n",
    "                temp_df = temp_df.drop([col],axis=1)\n",
    " \n",
    "    \n",
    "    temp_df['Participant_ID'] = pid # add participant ID\n",
    "    \n",
    "    if dataset == \"steps\":  # steps\n",
    "        temp_df.rename(columns = {'ds':'Dates', 'yhat':'Steps'}, inplace = True)\n",
    "        temp_df = temp_df[['Participant_ID', 'Dates', 'Steps']]\n",
    "    \n",
    "    elif dataset == \"active_duration\":  # active duration\n",
    "        temp_df.rename(columns = {'ds':'Dates', 'yhat':'Active_Duration_in_mins'}, inplace = True)\n",
    "        temp_df = temp_df[['Participant_ID', 'Dates', 'Active_Duration_in_mins']]\n",
    "        \n",
    "    elif dataset == \"active_HR\":  # active heart rate\n",
    "        temp_df.rename(columns = {'ds':'Dates', 'yhat':'Avg_ActiveHeartRate'}, inplace = True)\n",
    "        temp_df = temp_df[['Participant_ID', 'Dates', 'Avg_ActiveHeartRate']]\n",
    "        \n",
    "    elif dataset == \"distance\":  # distance\n",
    "        temp_df.rename(columns = {'ds':'Dates', 'yhat':'Distance'}, inplace = True)\n",
    "        temp_df = temp_df[['Participant_ID', 'Dates', 'Distance']]\n",
    "        \n",
    "    elif dataset == \"calories\":   # calories\n",
    "        temp_df.rename(columns = {'ds':'Dates', 'yhat':'Calories'}, inplace = True)\n",
    "        temp_df = temp_df[['Participant_ID', 'Dates', 'Calories']]\n",
    "        \n",
    "    elif dataset == \"rest_HR\":   #resting heart rate\n",
    "        temp_df.rename(columns = {'ds':'Dates', 'yhat':'Resting_beats_per_min'}, inplace = True)\n",
    "        temp_df = temp_df[['Participant_ID', 'Dates', 'Resting_beats_per_min']]\n",
    "        \n",
    "    else:    # sleep\n",
    "        temp_df.rename(columns = {'ds':'Dates', 'yhat':'Minutes_Asleep'}, inplace = True)\n",
    "        temp_df = temp_df[['Participant_ID', 'Dates', 'Minutes_Asleep']]\n",
    "    \n",
    "    \n",
    "    output_df = pd.concat((output_df, temp_df), axis = 0)\n",
    "    \n",
    "    \n",
    "    return output_df\n"
   ]
  },
  {
   "cell_type": "code",
   "execution_count": 21,
   "id": "5733f331",
   "metadata": {},
   "outputs": [],
   "source": [
    "def filter_output(dataset, df):\n",
    "    \n",
    "    # returns rows in dataframe after sepcified date\n",
    "    s_date = format(dataset.ds.iat[-1], '%Y-%m-%d') # date  of last row in dataset\n",
    "    filtered_df = df.loc[df['Dates'] > s_date]\n",
    "    \n",
    "    return filtered_df"
   ]
  },
  {
   "cell_type": "code",
   "execution_count": 22,
   "id": "e9f40125",
   "metadata": {},
   "outputs": [],
   "source": [
    "# create output dataframes\n",
    "\n",
    "active_duration_forcast_df = pd.DataFrame(columns = ['Participant_ID', 'Dates', 'Active_Duration_in_mins'])\n",
    "steps_forcast_df = pd.DataFrame(columns = ['Participant_ID', 'Dates', 'Steps'])\n",
    "active_heart_rate_forcast_df = pd.DataFrame(columns = ['Participant_ID', 'Dates', 'Avg_ActiveHeartRate'])\n",
    "distance_forcast_df = pd.DataFrame(columns = ['Participant_ID', 'Dates', 'Distance'])\n",
    "calories_forcast_df = pd.DataFrame(columns = ['Participant_ID', 'Dates', 'Calories'])\n",
    "resting_heartrate_forcast_df = pd.DataFrame(columns = ['Participant_ID', 'Dates', 'Resting_beats_per_min'])\n",
    "sleep_forcast_df = pd.DataFrame(columns = ['Participant_ID', 'Dates', 'Minutes_Asleep'])\n",
    "mape_df = pd.DataFrame(columns = ['Participant_ID', 'steps', 'active_duration', 'active_heart_rate', 'distance', 'calories', 'resting_heartrate', 'sleep', 'Training_Percentage', 'Daily_Seasonality'])"
   ]
  },
  {
   "cell_type": "code",
   "execution_count": 23,
   "id": "1f9872ad",
   "metadata": {},
   "outputs": [],
   "source": [
    "#convert date fields to datetime\n",
    "\n",
    "sleep_forcast_df['Dates'] = pd.to_datetime(sleep_forcast_df['Dates'])\n",
    "active_duration_forcast_df['Dates'] = pd.to_datetime(active_duration_forcast_df['Dates'])\n",
    "steps_forcast_df['Dates'] = pd.to_datetime(steps_forcast_df['Dates'])\n",
    "active_heart_rate_forcast_df['Dates'] = pd.to_datetime(active_heart_rate_forcast_df['Dates'])\n",
    "distance_forcast_df['Dates'] = pd.to_datetime(distance_forcast_df['Dates'])\n",
    "calories_forcast_df['Dates'] = pd.to_datetime(calories_forcast_df['Dates'])\n",
    "resting_heartrate_forcast_df['Dates'] = pd.to_datetime(resting_heartrate_forcast_df['Dates'])"
   ]
  },
  {
   "cell_type": "code",
   "execution_count": 24,
   "id": "09cb1120",
   "metadata": {
    "scrolled": true
   },
   "outputs": [
    {
     "name": "stderr",
     "output_type": "stream",
     "text": [
      "INFO:prophet:Disabling yearly seasonality. Run prophet with yearly_seasonality=True to override this.\n"
     ]
    },
    {
     "name": "stdout",
     "output_type": "stream",
     "text": [
      "p01\n"
     ]
    },
    {
     "name": "stderr",
     "output_type": "stream",
     "text": [
      "INFO:prophet:Disabling yearly seasonality. Run prophet with yearly_seasonality=True to override this.\n",
      "INFO:prophet:Disabling yearly seasonality. Run prophet with yearly_seasonality=True to override this.\n",
      "INFO:prophet:n_changepoints greater than number of observations. Using 5.\n",
      "INFO:prophet:Disabling yearly seasonality. Run prophet with yearly_seasonality=True to override this.\n",
      "INFO:prophet:Disabling yearly seasonality. Run prophet with yearly_seasonality=True to override this.\n",
      "INFO:prophet:Disabling yearly seasonality. Run prophet with yearly_seasonality=True to override this.\n",
      "INFO:prophet:Disabling yearly seasonality. Run prophet with yearly_seasonality=True to override this.\n"
     ]
    },
    {
     "name": "stdout",
     "output_type": "stream",
     "text": [
      "p02\n"
     ]
    },
    {
     "name": "stderr",
     "output_type": "stream",
     "text": [
      "INFO:prophet:Disabling yearly seasonality. Run prophet with yearly_seasonality=True to override this.\n",
      "INFO:prophet:Disabling yearly seasonality. Run prophet with yearly_seasonality=True to override this.\n",
      "INFO:prophet:n_changepoints greater than number of observations. Using 7.\n",
      "INFO:prophet:Disabling yearly seasonality. Run prophet with yearly_seasonality=True to override this.\n",
      "INFO:prophet:Disabling yearly seasonality. Run prophet with yearly_seasonality=True to override this.\n",
      "INFO:prophet:n_changepoints greater than number of observations. Using 23.\n",
      "INFO:prophet:Disabling yearly seasonality. Run prophet with yearly_seasonality=True to override this.\n",
      "INFO:prophet:Disabling yearly seasonality. Run prophet with yearly_seasonality=True to override this.\n",
      "INFO:prophet:n_changepoints greater than number of observations. Using 11.\n"
     ]
    },
    {
     "name": "stdout",
     "output_type": "stream",
     "text": [
      "p03\n"
     ]
    },
    {
     "name": "stderr",
     "output_type": "stream",
     "text": [
      "INFO:prophet:Disabling yearly seasonality. Run prophet with yearly_seasonality=True to override this.\n",
      "INFO:prophet:n_changepoints greater than number of observations. Using 11.\n",
      "INFO:prophet:Disabling yearly seasonality. Run prophet with yearly_seasonality=True to override this.\n",
      "INFO:prophet:n_changepoints greater than number of observations. Using 11.\n",
      "INFO:prophet:Disabling yearly seasonality. Run prophet with yearly_seasonality=True to override this.\n",
      "INFO:prophet:n_changepoints greater than number of observations. Using 11.\n",
      "INFO:prophet:Disabling yearly seasonality. Run prophet with yearly_seasonality=True to override this.\n",
      "INFO:prophet:Disabling yearly seasonality. Run prophet with yearly_seasonality=True to override this.\n",
      "INFO:prophet:n_changepoints greater than number of observations. Using 20.\n",
      "INFO:prophet:Disabling yearly seasonality. Run prophet with yearly_seasonality=True to override this.\n"
     ]
    },
    {
     "name": "stdout",
     "output_type": "stream",
     "text": [
      "p04\n"
     ]
    },
    {
     "name": "stderr",
     "output_type": "stream",
     "text": [
      "INFO:prophet:Disabling yearly seasonality. Run prophet with yearly_seasonality=True to override this.\n",
      "INFO:prophet:Disabling yearly seasonality. Run prophet with yearly_seasonality=True to override this.\n",
      "INFO:prophet:Disabling yearly seasonality. Run prophet with yearly_seasonality=True to override this.\n",
      "INFO:prophet:n_changepoints greater than number of observations. Using 12.\n",
      "INFO:prophet:Disabling yearly seasonality. Run prophet with yearly_seasonality=True to override this.\n",
      "INFO:prophet:Disabling yearly seasonality. Run prophet with yearly_seasonality=True to override this.\n",
      "INFO:prophet:Disabling weekly seasonality. Run prophet with weekly_seasonality=True to override this.\n",
      "INFO:prophet:n_changepoints greater than number of observations. Using 8.\n",
      "INFO:prophet:Disabling yearly seasonality. Run prophet with yearly_seasonality=True to override this.\n",
      "INFO:prophet:Disabling yearly seasonality. Run prophet with yearly_seasonality=True to override this.\n",
      "INFO:prophet:n_changepoints greater than number of observations. Using 16.\n"
     ]
    },
    {
     "name": "stdout",
     "output_type": "stream",
     "text": [
      "p05\n"
     ]
    },
    {
     "name": "stderr",
     "output_type": "stream",
     "text": [
      "INFO:prophet:Disabling yearly seasonality. Run prophet with yearly_seasonality=True to override this.\n",
      "INFO:prophet:n_changepoints greater than number of observations. Using 23.\n",
      "INFO:prophet:Disabling yearly seasonality. Run prophet with yearly_seasonality=True to override this.\n",
      "INFO:prophet:n_changepoints greater than number of observations. Using 23.\n",
      "INFO:prophet:Disabling yearly seasonality. Run prophet with yearly_seasonality=True to override this.\n",
      "INFO:prophet:n_changepoints greater than number of observations. Using 1.\n",
      "INFO:prophet:Disabling yearly seasonality. Run prophet with yearly_seasonality=True to override this.\n",
      "INFO:prophet:n_changepoints greater than number of observations. Using 23.\n",
      "INFO:prophet:Disabling yearly seasonality. Run prophet with yearly_seasonality=True to override this.\n",
      "INFO:prophet:n_changepoints greater than number of observations. Using 23.\n",
      "INFO:prophet:Disabling yearly seasonality. Run prophet with yearly_seasonality=True to override this.\n",
      "INFO:prophet:Disabling yearly seasonality. Run prophet with yearly_seasonality=True to override this.\n",
      "INFO:prophet:n_changepoints greater than number of observations. Using 17.\n"
     ]
    },
    {
     "name": "stdout",
     "output_type": "stream",
     "text": [
      "p06\n"
     ]
    },
    {
     "name": "stderr",
     "output_type": "stream",
     "text": [
      "INFO:prophet:Disabling yearly seasonality. Run prophet with yearly_seasonality=True to override this.\n",
      "INFO:prophet:n_changepoints greater than number of observations. Using 23.\n",
      "INFO:prophet:Disabling yearly seasonality. Run prophet with yearly_seasonality=True to override this.\n",
      "INFO:prophet:n_changepoints greater than number of observations. Using 23.\n",
      "INFO:prophet:Disabling yearly seasonality. Run prophet with yearly_seasonality=True to override this.\n",
      "INFO:prophet:n_changepoints greater than number of observations. Using 12.\n",
      "INFO:prophet:Disabling yearly seasonality. Run prophet with yearly_seasonality=True to override this.\n",
      "INFO:prophet:n_changepoints greater than number of observations. Using 23.\n",
      "INFO:prophet:Disabling yearly seasonality. Run prophet with yearly_seasonality=True to override this.\n",
      "INFO:prophet:Disabling yearly seasonality. Run prophet with yearly_seasonality=True to override this.\n",
      "INFO:prophet:Disabling yearly seasonality. Run prophet with yearly_seasonality=True to override this.\n"
     ]
    },
    {
     "name": "stdout",
     "output_type": "stream",
     "text": [
      "p07\n"
     ]
    },
    {
     "name": "stderr",
     "output_type": "stream",
     "text": [
      "INFO:prophet:Disabling yearly seasonality. Run prophet with yearly_seasonality=True to override this.\n",
      "INFO:prophet:Disabling yearly seasonality. Run prophet with yearly_seasonality=True to override this.\n",
      "INFO:prophet:Disabling yearly seasonality. Run prophet with yearly_seasonality=True to override this.\n",
      "INFO:prophet:Disabling yearly seasonality. Run prophet with yearly_seasonality=True to override this.\n",
      "INFO:prophet:Disabling yearly seasonality. Run prophet with yearly_seasonality=True to override this.\n",
      "INFO:prophet:Disabling yearly seasonality. Run prophet with yearly_seasonality=True to override this.\n",
      "INFO:prophet:Disabling yearly seasonality. Run prophet with yearly_seasonality=True to override this.\n"
     ]
    },
    {
     "name": "stdout",
     "output_type": "stream",
     "text": [
      "p08\n"
     ]
    },
    {
     "name": "stderr",
     "output_type": "stream",
     "text": [
      "INFO:prophet:Disabling yearly seasonality. Run prophet with yearly_seasonality=True to override this.\n",
      "INFO:prophet:Disabling yearly seasonality. Run prophet with yearly_seasonality=True to override this.\n",
      "INFO:prophet:n_changepoints greater than number of observations. Using 24.\n",
      "INFO:prophet:Disabling yearly seasonality. Run prophet with yearly_seasonality=True to override this.\n",
      "INFO:prophet:Disabling yearly seasonality. Run prophet with yearly_seasonality=True to override this.\n",
      "INFO:prophet:Disabling yearly seasonality. Run prophet with yearly_seasonality=True to override this.\n",
      "INFO:prophet:Disabling yearly seasonality. Run prophet with yearly_seasonality=True to override this.\n",
      "INFO:prophet:n_changepoints greater than number of observations. Using 9.\n"
     ]
    },
    {
     "name": "stdout",
     "output_type": "stream",
     "text": [
      "p09\n"
     ]
    },
    {
     "name": "stderr",
     "output_type": "stream",
     "text": [
      "INFO:prophet:Disabling yearly seasonality. Run prophet with yearly_seasonality=True to override this.\n",
      "INFO:prophet:n_changepoints greater than number of observations. Using 9.\n",
      "INFO:prophet:Disabling yearly seasonality. Run prophet with yearly_seasonality=True to override this.\n",
      "INFO:prophet:n_changepoints greater than number of observations. Using 9.\n",
      "INFO:prophet:Disabling yearly seasonality. Run prophet with yearly_seasonality=True to override this.\n",
      "INFO:prophet:n_changepoints greater than number of observations. Using 9.\n",
      "INFO:prophet:Disabling yearly seasonality. Run prophet with yearly_seasonality=True to override this.\n",
      "INFO:prophet:Disabling yearly seasonality. Run prophet with yearly_seasonality=True to override this.\n",
      "INFO:prophet:Disabling yearly seasonality. Run prophet with yearly_seasonality=True to override this.\n",
      "INFO:prophet:n_changepoints greater than number of observations. Using 21.\n"
     ]
    },
    {
     "name": "stdout",
     "output_type": "stream",
     "text": [
      "p10\n"
     ]
    },
    {
     "name": "stderr",
     "output_type": "stream",
     "text": [
      "INFO:prophet:Disabling yearly seasonality. Run prophet with yearly_seasonality=True to override this.\n",
      "INFO:prophet:n_changepoints greater than number of observations. Using 22.\n",
      "INFO:prophet:Disabling yearly seasonality. Run prophet with yearly_seasonality=True to override this.\n",
      "INFO:prophet:n_changepoints greater than number of observations. Using 21.\n",
      "INFO:prophet:Disabling yearly seasonality. Run prophet with yearly_seasonality=True to override this.\n",
      "INFO:prophet:n_changepoints greater than number of observations. Using 4.\n",
      "INFO:prophet:Disabling yearly seasonality. Run prophet with yearly_seasonality=True to override this.\n",
      "INFO:prophet:n_changepoints greater than number of observations. Using 22.\n",
      "INFO:prophet:Disabling yearly seasonality. Run prophet with yearly_seasonality=True to override this.\n",
      "INFO:prophet:Disabling yearly seasonality. Run prophet with yearly_seasonality=True to override this.\n",
      "INFO:prophet:Disabling yearly seasonality. Run prophet with yearly_seasonality=True to override this.\n",
      "INFO:prophet:n_changepoints greater than number of observations. Using 15.\n"
     ]
    },
    {
     "name": "stdout",
     "output_type": "stream",
     "text": [
      "p11\n"
     ]
    },
    {
     "name": "stderr",
     "output_type": "stream",
     "text": [
      "INFO:prophet:Disabling yearly seasonality. Run prophet with yearly_seasonality=True to override this.\n",
      "INFO:prophet:n_changepoints greater than number of observations. Using 15.\n",
      "INFO:prophet:Disabling yearly seasonality. Run prophet with yearly_seasonality=True to override this.\n",
      "INFO:prophet:n_changepoints greater than number of observations. Using 15.\n",
      "INFO:prophet:Disabling yearly seasonality. Run prophet with yearly_seasonality=True to override this.\n",
      "INFO:prophet:n_changepoints greater than number of observations. Using 3.\n",
      "INFO:prophet:Disabling yearly seasonality. Run prophet with yearly_seasonality=True to override this.\n",
      "INFO:prophet:n_changepoints greater than number of observations. Using 15.\n",
      "INFO:prophet:Disabling yearly seasonality. Run prophet with yearly_seasonality=True to override this.\n",
      "INFO:prophet:n_changepoints greater than number of observations. Using 21.\n",
      "INFO:prophet:Disabling yearly seasonality. Run prophet with yearly_seasonality=True to override this.\n",
      "INFO:prophet:Disabling yearly seasonality. Run prophet with yearly_seasonality=True to override this.\n",
      "INFO:prophet:n_changepoints greater than number of observations. Using 14.\n"
     ]
    },
    {
     "name": "stdout",
     "output_type": "stream",
     "text": [
      "p12\n"
     ]
    },
    {
     "name": "stderr",
     "output_type": "stream",
     "text": [
      "INFO:prophet:Disabling yearly seasonality. Run prophet with yearly_seasonality=True to override this.\n",
      "INFO:prophet:n_changepoints greater than number of observations. Using 14.\n",
      "INFO:prophet:Disabling yearly seasonality. Run prophet with yearly_seasonality=True to override this.\n",
      "INFO:prophet:n_changepoints greater than number of observations. Using 14.\n",
      "INFO:prophet:Disabling yearly seasonality. Run prophet with yearly_seasonality=True to override this.\n",
      "INFO:prophet:Disabling weekly seasonality. Run prophet with weekly_seasonality=True to override this.\n",
      "INFO:prophet:n_changepoints greater than number of observations. Using 0.\n",
      "INFO:prophet:Disabling yearly seasonality. Run prophet with yearly_seasonality=True to override this.\n",
      "INFO:prophet:n_changepoints greater than number of observations. Using 14.\n",
      "INFO:prophet:Disabling yearly seasonality. Run prophet with yearly_seasonality=True to override this.\n",
      "INFO:prophet:Disabling weekly seasonality. Run prophet with weekly_seasonality=True to override this.\n",
      "INFO:prophet:n_changepoints greater than number of observations. Using 1.\n",
      "INFO:prophet:Disabling yearly seasonality. Run prophet with yearly_seasonality=True to override this.\n",
      "INFO:prophet:n_changepoints greater than number of observations. Using 7.\n"
     ]
    },
    {
     "name": "stdout",
     "output_type": "stream",
     "text": [
      "p13\n"
     ]
    },
    {
     "name": "stderr",
     "output_type": "stream",
     "text": [
      "INFO:prophet:Disabling yearly seasonality. Run prophet with yearly_seasonality=True to override this.\n",
      "INFO:prophet:n_changepoints greater than number of observations. Using 7.\n",
      "INFO:prophet:Disabling yearly seasonality. Run prophet with yearly_seasonality=True to override this.\n",
      "INFO:prophet:n_changepoints greater than number of observations. Using 7.\n",
      "INFO:prophet:Disabling yearly seasonality. Run prophet with yearly_seasonality=True to override this.\n",
      "INFO:prophet:n_changepoints greater than number of observations. Using 7.\n",
      "INFO:prophet:Disabling yearly seasonality. Run prophet with yearly_seasonality=True to override this.\n",
      "INFO:prophet:n_changepoints greater than number of observations. Using 13.\n",
      "INFO:prophet:Disabling yearly seasonality. Run prophet with yearly_seasonality=True to override this.\n"
     ]
    },
    {
     "name": "stdout",
     "output_type": "stream",
     "text": [
      "p14\n"
     ]
    },
    {
     "name": "stderr",
     "output_type": "stream",
     "text": [
      "INFO:prophet:Disabling yearly seasonality. Run prophet with yearly_seasonality=True to override this.\n",
      "INFO:prophet:Disabling yearly seasonality. Run prophet with yearly_seasonality=True to override this.\n",
      "INFO:prophet:n_changepoints greater than number of observations. Using 12.\n",
      "INFO:prophet:Disabling yearly seasonality. Run prophet with yearly_seasonality=True to override this.\n",
      "INFO:prophet:Disabling yearly seasonality. Run prophet with yearly_seasonality=True to override this.\n",
      "INFO:prophet:Disabling yearly seasonality. Run prophet with yearly_seasonality=True to override this.\n",
      "INFO:prophet:Disabling yearly seasonality. Run prophet with yearly_seasonality=True to override this.\n"
     ]
    },
    {
     "name": "stdout",
     "output_type": "stream",
     "text": [
      "p15\n"
     ]
    },
    {
     "name": "stderr",
     "output_type": "stream",
     "text": [
      "INFO:prophet:Disabling yearly seasonality. Run prophet with yearly_seasonality=True to override this.\n",
      "INFO:prophet:Disabling yearly seasonality. Run prophet with yearly_seasonality=True to override this.\n",
      "INFO:prophet:n_changepoints greater than number of observations. Using 21.\n",
      "INFO:prophet:Disabling yearly seasonality. Run prophet with yearly_seasonality=True to override this.\n",
      "INFO:prophet:Disabling yearly seasonality. Run prophet with yearly_seasonality=True to override this.\n",
      "INFO:prophet:Disabling yearly seasonality. Run prophet with yearly_seasonality=True to override this.\n"
     ]
    }
   ],
   "source": [
    "for id in df_participant_IDs:\n",
    "    \n",
    "    print(id)\n",
    "# loop through Participant IDs\n",
    "\n",
    "    if zeros_b:\n",
    "        df_steps_X = df_steps.loc[(df_steps[\"participant_id\"] == id) & (df_steps[\"steps\"] > 0), :]\n",
    "        df_active_duration_X = df_active_duration.loc[(df_active_duration[\"participant_id\"] == id) & (df_active_duration[\"active_duration_in_mins\"] > 0), :]\n",
    "        df_active_heart_rate_X = df_active_heart_rate.loc[(df_active_heart_rate[\"participant_id\"] == id) & (df_active_heart_rate[\"avg\"] > 0), :]\n",
    "        df_distance_X = df_distance.loc[(df_distance[\"participant_id\"] == id) & (df_distance[\"distance\"] > 0), :]\n",
    "        df_calories_X = df_calories.loc[(df_calories[\"participant_id\"] == id) & (df_calories[\"calories\"] > 0), :]\n",
    "        df_resting_heartrate_X = df_resting_heartrate.loc[(df_resting_heartrate[\"participant_id\"] == id) & (df_resting_heartrate[\"resting_beats_per_min\"] > 0), :]\n",
    "        df_sleep_X = df_sleep.loc[(df_sleep[\"participant_id\"] == id) & (df_sleep[\"minutes_asleep\"] > 0), :]\n",
    "    else:\n",
    "        df_steps_X = df_steps.loc[df_steps[\"participant_id\"] == id, :]\n",
    "        df_active_duration_X = df_active_duration.loc[df_active_duration[\"participant_id\"] == id, :]\n",
    "        df_active_heart_rate_X = df_active_heart_rate.loc[df_active_heart_rate[\"participant_id\"] == id, :]\n",
    "        df_distance_X = df_distance.loc[df_distance[\"participant_id\"] == id, :]\n",
    "        df_calories_X = df_calories.loc[df_calories[\"participant_id\"] == id, :]\n",
    "        df_resting_heartrate_X = df_resting_heartrate.loc[df_resting_heartrate[\"participant_id\"] == id, :]\n",
    "        df_sleep_X = df_sleep.loc[df_sleep[\"participant_id\"] == id, :]\n",
    "    \n",
    "    steps_b = True\n",
    "    active_duration_b = True\n",
    "    active_heart_rate_b = True\n",
    "    distance_b = True\n",
    "    calories_b = True\n",
    "    resting_heartrate_b = True\n",
    "    sleep_b = True\n",
    "    \n",
    "    #test to see if dataset has any data for given participant ID\n",
    "    if df_steps_X.empty:\n",
    "        steps_b = False\n",
    "    \n",
    "    if df_active_duration_X.empty:\n",
    "        active_duration_b = False\n",
    "        \n",
    "    if df_active_heart_rate_X.empty:\n",
    "        active_heart_rate_b = False\n",
    "        \n",
    "    if df_distance_X.empty:\n",
    "        distance_b = False\n",
    "        \n",
    "    if df_calories_X.empty:\n",
    "        calories_b = False\n",
    "        \n",
    "    if df_resting_heartrate_X.empty:\n",
    "        resting_heartrate_b = False\n",
    "    \n",
    "    if df_sleep_X.empty:\n",
    "        sleep_b = False\n",
    "            \n",
    "    # parse data for model    \n",
    "    df_steps_X = parser(df_steps_X)\n",
    "    df_active_duration_X = parser(df_active_duration_X)\n",
    "    df_active_heart_rate_X = parser(df_active_heart_rate_X)\n",
    "    df_distance_X = parser(df_distance_X)\n",
    "    df_calories_X = parser(df_calories_X)\n",
    "    df_resting_heartrate_X = parser(df_resting_heartrate_X)\n",
    "    df_sleep_X = parser(df_sleep_X)\n",
    "\n",
    "# set train and test data\n",
    "    train_size = int(len(df_steps_X) * abs(train_perc))\n",
    "    if train_size < 3:   # Prophet has a minimum of 2 datapoints to train model\n",
    "        steps_b = False\n",
    "    df_steps_test, df_steps_train = df_steps_X[0:train_size], df_steps_X[train_size:]\n",
    "\n",
    "    train_size = int(len(df_active_duration_X) * abs(train_perc))\n",
    "    if train_size < 3:\n",
    "        active_duration_b = False\n",
    "    df_active_duration_test, df_active_duration_train = df_active_duration_X[0:train_size], df_active_duration_X[train_size:]\n",
    "\n",
    "    train_size = int(len(df_active_heart_rate_X) * abs(train_perc))\n",
    "    if train_size < 3:\n",
    "        active_heart_rate_b = False\n",
    "    df_active_heart_rate_test, df_active_heart_rate_train = df_active_heart_rate_X[0:train_size], df_active_heart_rate_X[train_size:]\n",
    "    \n",
    "    train_size = int(len(df_distance_X) * abs(train_perc))\n",
    "    if train_size < 3:\n",
    "        distance_b = False\n",
    "    df_distance_test, df_distance_train = df_distance_X[0:train_size], df_distance_X[train_size:]\n",
    "    \n",
    "    train_size = int(len(df_calories_X) * abs(train_perc))\n",
    "    if train_size < 3:\n",
    "        calories_b = False\n",
    "    df_calories_test, df_calories_train = df_calories_X[0:train_size], df_calories_X[train_size:]\n",
    "\n",
    "    train_size = int(len(df_resting_heartrate_X) * abs(train_perc))\n",
    "    if train_size < 3:\n",
    "        resting_heartrate_b = False\n",
    "    df_resting_heartrate_test, df_resting_heartrate_train = df_resting_heartrate_X[0:train_size], df_resting_heartrate_X[train_size:]\n",
    "    \n",
    "    train_size = int(len(df_sleep_X) * abs(train_perc))\n",
    "    if train_size < 3:\n",
    "        sleep_b = False\n",
    "    df_sleep_test, df_sleep_train = df_sleep_X[0:train_size], df_sleep_X[train_size:]\n",
    "    \n",
    "# define the model, fit and test\n",
    "    steps_test_forecast = \"\"\n",
    "    active_duration_test_forcast = \"\"\n",
    "    active_heart_rate_test_forcast = \"\"\n",
    "    distance_test_forcast = \"\"\n",
    "    calories_test_forcast = \"\"\n",
    "    resting_heartrate_test_forcast = \"\"\n",
    "    sleep_test_forcast = \"\"    \n",
    "    \n",
    "    if steps_b:\n",
    "        model_steps = Prophet(daily_seasonality=seasonality_b)\n",
    "        model_steps.fit(df_steps_train)\n",
    "        steps_test_forecast = model_steps.predict(df_steps_test)\n",
    "        \n",
    "        future = model_steps.make_future_dataframe(periods=365)   # predict future time series\n",
    "        steps_train_predict = model_steps.predict(future)\n",
    "        \n",
    "        steps_forcast_df = update_output_df(steps_forcast_df, steps_train_predict, id, \"steps\")\n",
    "        steps_forcast_df = filter_output(df_steps_X, steps_forcast_df)\n",
    "       \n",
    "        \n",
    "    if active_duration_b:\n",
    "        model_active_duration = Prophet(daily_seasonality=seasonality_b)\n",
    "        model_active_duration.fit(df_active_duration_train)\n",
    "        active_duration_test_forcast = model_active_duration.predict(df_active_duration_test)\n",
    "        \n",
    "        future = model_active_duration.make_future_dataframe(periods=365) # predict future time series\n",
    "        active_duration_train_predict = model_active_duration.predict(future)\n",
    "\n",
    "        active_duration_forcast_df = update_output_df(active_duration_forcast_df, active_duration_train_predict, id, \"active_duration\")\n",
    "        active_duration_forcast_df = filter_output(df_active_duration_X, active_duration_forcast_df)\n",
    "\n",
    "        \n",
    "    if active_heart_rate_b:\n",
    "        model_active_heart_rate = Prophet(daily_seasonality=seasonality_b)\n",
    "        model_active_heart_rate.fit(df_active_heart_rate_train)\n",
    "        active_heart_rate_test_forcast = model_active_heart_rate.predict(df_active_heart_rate_test)\n",
    "        \n",
    "        future = model_active_heart_rate.make_future_dataframe(periods=365)    # predict future time series\n",
    "        active_heart_rate_train_predict = model_active_heart_rate.predict(future)\n",
    "        \n",
    "        active_heart_rate_forcast_df = update_output_df(active_heart_rate_forcast_df, active_heart_rate_train_predict, id, \"active_HR\")\n",
    "        active_heart_rate_forcast_df = filter_output(df_active_heart_rate_X, active_heart_rate_forcast_df)\n",
    "       \n",
    "    \n",
    "    if distance_b:\n",
    "        model_distance = Prophet(daily_seasonality=seasonality_b)\n",
    "        model_distance.fit(df_distance_train)\n",
    "        distance_test_forcast = model_distance.predict(df_distance_test)\n",
    "        \n",
    "        future = model_distance.make_future_dataframe(periods=365)     # predict future time series\n",
    "        distance_train_predict = model_distance.predict(future)\n",
    "\n",
    "        distance_forcast_df = update_output_df(distance_forcast_df, distance_train_predict, id, \"distance\")\n",
    "        distance_forcast_df = filter_output(df_distance_X, distance_forcast_df)\n",
    "\n",
    "        \n",
    "    if calories_b:\n",
    "        model_calories = Prophet(daily_seasonality=seasonality_b)\n",
    "        model_calories.fit(df_calories_train)\n",
    "        calories_test_forcast = model_calories.predict(df_calories_test)\n",
    "        \n",
    "        future = model_calories.make_future_dataframe(periods=365)    # predict future time series\n",
    "        calories_train_predict = model_calories.predict(future)\n",
    "        \n",
    "        calories_forcast_df = update_output_df(calories_forcast_df, calories_train_predict, id, \"calories\")\n",
    "        calories_forcast_df = filter_output(df_calories_X, calories_forcast_df)\n",
    "\n",
    "        \n",
    "    if resting_heartrate_b:\n",
    "        model_resting_heartrate = Prophet(daily_seasonality=seasonality_b)\n",
    "        model_resting_heartrate.fit(df_resting_heartrate_train)\n",
    "        resting_heartrate_test_forcast = model_resting_heartrate.predict(df_resting_heartrate_test)\n",
    "        \n",
    "        future = model_resting_heartrate.make_future_dataframe(periods=365)   # predict future time series\n",
    "        resting_heartrate_train_predict = model_resting_heartrate.predict(future)\n",
    "        \n",
    "        resting_heartrate_forcast_df = update_output_df(resting_heartrate_forcast_df, resting_heartrate_train_predict, id, \"rest_HR\")\n",
    "        resting_heartrate_forcast_df = filter_output(df_resting_heartrate_X, resting_heartrate_forcast_df)\n",
    "\n",
    "     \n",
    "    if sleep_b:\n",
    "        model_sleep = Prophet(daily_seasonality=seasonality_b)\n",
    "        model_sleep.fit(df_sleep_train)\n",
    "        sleep_test_forcast = model_sleep.predict(df_sleep_test)\n",
    "        \n",
    "        future = model_sleep.make_future_dataframe(periods=365)    # predict future time series\n",
    "        sleep_train_predict = model_sleep.predict(future)\n",
    "        \n",
    "        sleep_forcast_df = update_output_df(sleep_forcast_df, sleep_train_predict, id, \"sleep\")\n",
    "        sleep_forcast_df = filter_output(df_sleep_X, sleep_forcast_df)\n",
    "        \n",
    "\n",
    "\n",
    "    \n",
    "    mape_df = mape_df.append({'Participant_ID' : id,\n",
    "                    'steps' : evaluate_model(steps_test_forecast, df_steps_test, steps_b),\n",
    "                    'active_duration' : evaluate_model(active_duration_test_forcast, df_active_duration_test, active_duration_b),\n",
    "                    'active_heart_rate' : evaluate_model(active_heart_rate_test_forcast, df_active_heart_rate_test, active_heart_rate_b),\n",
    "                    'distance' : evaluate_model(distance_test_forcast, df_distance_test, distance_b),\n",
    "                    'calories' : evaluate_model(calories_test_forcast, df_calories_test, calories_b),\n",
    "                    'resting_heartrate' : evaluate_model(resting_heartrate_test_forcast, df_resting_heartrate_test, resting_heartrate_b),\n",
    "                    'sleep' : evaluate_model(sleep_test_forcast, df_sleep_test, sleep_b),\n",
    "                    'Training_Percentage': train_perc*100,\n",
    "                    'Daily_Seasonality': seasonality_b},\n",
    "                    ignore_index=True)\n",
    "    \n",
    "    \n",
    "\n",
    "\n",
    "    \n",
    "\n",
    "\n",
    "    "
   ]
  },
  {
   "cell_type": "code",
   "execution_count": 26,
   "id": "fda0edff",
   "metadata": {},
   "outputs": [],
   "source": [
    "# write to CSV files\n",
    "\n",
    "steps_forcast_df.to_csv('ML_Output/steps_output.csv', index=False)\n",
    "active_heart_rate_forcast_df.to_csv('ML_Output/active_Duration_output.csv', index=False)\n",
    "active_heart_rate_forcast_df.to_csv('ML_Output/active_HR_output.csv', index=False)\n",
    "distance_forcast_df.to_csv('ML_Output/distance_output.csv', index=False)\n",
    "calories_forcast_df.to_csv('ML_Output/calories_output.csv', index=False)\n",
    "resting_heartrate_forcast_df.to_csv('ML_Output/resting_hr_output.csv', index=False)\n",
    "sleep_forcast_df.to_csv('ML_Output/sleep_output.csv', index=False)\n",
    "mape_df.to_csv('ML_Output/mape_output.csv', index=False)"
   ]
  }
 ],
 "metadata": {
  "kernelspec": {
   "display_name": "PythonData",
   "language": "python",
   "name": "pythondata"
  },
  "language_info": {
   "codemirror_mode": {
    "name": "ipython",
    "version": 3
   },
   "file_extension": ".py",
   "mimetype": "text/x-python",
   "name": "python",
   "nbconvert_exporter": "python",
   "pygments_lexer": "ipython3",
   "version": "3.7.11"
  }
 },
 "nbformat": 4,
 "nbformat_minor": 5
}
